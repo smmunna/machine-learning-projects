{
 "cells": [
  {
   "cell_type": "code",
   "execution_count": 2,
   "id": "10de45b5",
   "metadata": {},
   "outputs": [],
   "source": [
    "import pandas as pd\n",
    "import numpy as np"
   ]
  },
  {
   "cell_type": "code",
   "execution_count": 3,
   "id": "69daacba",
   "metadata": {},
   "outputs": [
    {
     "data": {
      "text/html": [
       "<div>\n",
       "<style scoped>\n",
       "    .dataframe tbody tr th:only-of-type {\n",
       "        vertical-align: middle;\n",
       "    }\n",
       "\n",
       "    .dataframe tbody tr th {\n",
       "        vertical-align: top;\n",
       "    }\n",
       "\n",
       "    .dataframe thead th {\n",
       "        text-align: right;\n",
       "    }\n",
       "</style>\n",
       "<table border=\"1\" class=\"dataframe\">\n",
       "  <thead>\n",
       "    <tr style=\"text-align: right;\">\n",
       "      <th></th>\n",
       "      <th>id</th>\n",
       "      <th>gender</th>\n",
       "      <th>PPE</th>\n",
       "      <th>DFA</th>\n",
       "      <th>RPDE</th>\n",
       "      <th>...</th>\n",
       "      <th>tqwt_kurtosisValue_dec_33</th>\n",
       "      <th>tqwt_kurtosisValue_dec_34</th>\n",
       "      <th>tqwt_kurtosisValue_dec_35</th>\n",
       "      <th>tqwt_kurtosisValue_dec_36</th>\n",
       "      <th>class</th>\n",
       "    </tr>\n",
       "  </thead>\n",
       "  <tbody>\n",
       "    <tr>\n",
       "      <th>156</th>\n",
       "      <td>52</td>\n",
       "      <td>1</td>\n",
       "      <td>0.81255</td>\n",
       "      <td>0.60243</td>\n",
       "      <td>0.52083</td>\n",
       "      <td>...</td>\n",
       "      <td>2.5098</td>\n",
       "      <td>2.4328</td>\n",
       "      <td>2.7477</td>\n",
       "      <td>13.3490</td>\n",
       "      <td>1</td>\n",
       "    </tr>\n",
       "    <tr>\n",
       "      <th>323</th>\n",
       "      <td>107</td>\n",
       "      <td>1</td>\n",
       "      <td>0.80460</td>\n",
       "      <td>0.73701</td>\n",
       "      <td>0.32604</td>\n",
       "      <td>...</td>\n",
       "      <td>12.2715</td>\n",
       "      <td>12.1886</td>\n",
       "      <td>8.2745</td>\n",
       "      <td>41.8950</td>\n",
       "      <td>1</td>\n",
       "    </tr>\n",
       "    <tr>\n",
       "      <th>223</th>\n",
       "      <td>74</td>\n",
       "      <td>1</td>\n",
       "      <td>0.47019</td>\n",
       "      <td>0.75495</td>\n",
       "      <td>0.63768</td>\n",
       "      <td>...</td>\n",
       "      <td>16.8188</td>\n",
       "      <td>30.3167</td>\n",
       "      <td>27.3304</td>\n",
       "      <td>14.9176</td>\n",
       "      <td>1</td>\n",
       "    </tr>\n",
       "    <tr>\n",
       "      <th>232</th>\n",
       "      <td>77</td>\n",
       "      <td>0</td>\n",
       "      <td>0.63101</td>\n",
       "      <td>0.82411</td>\n",
       "      <td>0.80353</td>\n",
       "      <td>...</td>\n",
       "      <td>2.6998</td>\n",
       "      <td>3.0054</td>\n",
       "      <td>4.9437</td>\n",
       "      <td>4.8401</td>\n",
       "      <td>1</td>\n",
       "    </tr>\n",
       "    <tr>\n",
       "      <th>403</th>\n",
       "      <td>134</td>\n",
       "      <td>1</td>\n",
       "      <td>0.82159</td>\n",
       "      <td>0.67006</td>\n",
       "      <td>0.60602</td>\n",
       "      <td>...</td>\n",
       "      <td>59.3870</td>\n",
       "      <td>43.7500</td>\n",
       "      <td>38.0946</td>\n",
       "      <td>92.2488</td>\n",
       "      <td>1</td>\n",
       "    </tr>\n",
       "  </tbody>\n",
       "</table>\n",
       "<p>5 rows × 755 columns</p>\n",
       "</div>"
      ],
      "text/plain": [
       "      id  gender      PPE      DFA     RPDE  ...  tqwt_kurtosisValue_dec_33  \\\n",
       "156   52       1  0.81255  0.60243  0.52083  ...                     2.5098   \n",
       "323  107       1  0.80460  0.73701  0.32604  ...                    12.2715   \n",
       "223   74       1  0.47019  0.75495  0.63768  ...                    16.8188   \n",
       "232   77       0  0.63101  0.82411  0.80353  ...                     2.6998   \n",
       "403  134       1  0.82159  0.67006  0.60602  ...                    59.3870   \n",
       "\n",
       "     tqwt_kurtosisValue_dec_34  tqwt_kurtosisValue_dec_35  \\\n",
       "156                     2.4328                     2.7477   \n",
       "323                    12.1886                     8.2745   \n",
       "223                    30.3167                    27.3304   \n",
       "232                     3.0054                     4.9437   \n",
       "403                    43.7500                    38.0946   \n",
       "\n",
       "     tqwt_kurtosisValue_dec_36  class  \n",
       "156                    13.3490      1  \n",
       "323                    41.8950      1  \n",
       "223                    14.9176      1  \n",
       "232                     4.8401      1  \n",
       "403                    92.2488      1  \n",
       "\n",
       "[5 rows x 755 columns]"
      ]
     },
     "execution_count": 3,
     "metadata": {},
     "output_type": "execute_result"
    }
   ],
   "source": [
    "df = pd.read_csv('datasets/parkinson_disease.csv')\n",
    "pd.set_option('display.max_columns', 10)\n",
    "df.sample(5)"
   ]
  },
  {
   "cell_type": "code",
   "execution_count": 4,
   "id": "a434e634",
   "metadata": {},
   "outputs": [
    {
     "name": "stdout",
     "output_type": "stream",
     "text": [
      "<class 'pandas.core.frame.DataFrame'>\n",
      "RangeIndex: 756 entries, 0 to 755\n",
      "Columns: 755 entries, id to class\n",
      "dtypes: float64(749), int64(6)\n",
      "memory usage: 4.4 MB\n"
     ]
    }
   ],
   "source": [
    "df.info()"
   ]
  },
  {
   "cell_type": "code",
   "execution_count": 5,
   "id": "64e89da7",
   "metadata": {},
   "outputs": [
    {
     "data": {
      "text/html": [
       "<div>\n",
       "<style scoped>\n",
       "    .dataframe tbody tr th:only-of-type {\n",
       "        vertical-align: middle;\n",
       "    }\n",
       "\n",
       "    .dataframe tbody tr th {\n",
       "        vertical-align: top;\n",
       "    }\n",
       "\n",
       "    .dataframe thead th {\n",
       "        text-align: right;\n",
       "    }\n",
       "</style>\n",
       "<table border=\"1\" class=\"dataframe\">\n",
       "  <thead>\n",
       "    <tr style=\"text-align: right;\">\n",
       "      <th></th>\n",
       "      <th>count</th>\n",
       "      <th>mean</th>\n",
       "      <th>std</th>\n",
       "      <th>min</th>\n",
       "      <th>25%</th>\n",
       "      <th>50%</th>\n",
       "      <th>75%</th>\n",
       "      <th>max</th>\n",
       "    </tr>\n",
       "  </thead>\n",
       "  <tbody>\n",
       "    <tr>\n",
       "      <th>id</th>\n",
       "      <td>756.0</td>\n",
       "      <td>125.500000</td>\n",
       "      <td>72.793721</td>\n",
       "      <td>0.000000</td>\n",
       "      <td>62.750000</td>\n",
       "      <td>125.500000</td>\n",
       "      <td>188.250000</td>\n",
       "      <td>251.00000</td>\n",
       "    </tr>\n",
       "    <tr>\n",
       "      <th>gender</th>\n",
       "      <td>756.0</td>\n",
       "      <td>0.515873</td>\n",
       "      <td>0.500079</td>\n",
       "      <td>0.000000</td>\n",
       "      <td>0.000000</td>\n",
       "      <td>1.000000</td>\n",
       "      <td>1.000000</td>\n",
       "      <td>1.00000</td>\n",
       "    </tr>\n",
       "    <tr>\n",
       "      <th>PPE</th>\n",
       "      <td>756.0</td>\n",
       "      <td>0.746284</td>\n",
       "      <td>0.169294</td>\n",
       "      <td>0.041551</td>\n",
       "      <td>0.762833</td>\n",
       "      <td>0.809655</td>\n",
       "      <td>0.834315</td>\n",
       "      <td>0.90766</td>\n",
       "    </tr>\n",
       "    <tr>\n",
       "      <th>DFA</th>\n",
       "      <td>756.0</td>\n",
       "      <td>0.700414</td>\n",
       "      <td>0.069718</td>\n",
       "      <td>0.543500</td>\n",
       "      <td>0.647053</td>\n",
       "      <td>0.700525</td>\n",
       "      <td>0.754985</td>\n",
       "      <td>0.85264</td>\n",
       "    </tr>\n",
       "    <tr>\n",
       "      <th>RPDE</th>\n",
       "      <td>756.0</td>\n",
       "      <td>0.489058</td>\n",
       "      <td>0.137442</td>\n",
       "      <td>0.154300</td>\n",
       "      <td>0.386537</td>\n",
       "      <td>0.484355</td>\n",
       "      <td>0.586515</td>\n",
       "      <td>0.87123</td>\n",
       "    </tr>\n",
       "    <tr>\n",
       "      <th>...</th>\n",
       "      <td>...</td>\n",
       "      <td>...</td>\n",
       "      <td>...</td>\n",
       "      <td>...</td>\n",
       "      <td>...</td>\n",
       "      <td>...</td>\n",
       "      <td>...</td>\n",
       "      <td>...</td>\n",
       "    </tr>\n",
       "    <tr>\n",
       "      <th>tqwt_kurtosisValue_dec_33</th>\n",
       "      <td>756.0</td>\n",
       "      <td>12.375335</td>\n",
       "      <td>16.341665</td>\n",
       "      <td>1.628700</td>\n",
       "      <td>3.114375</td>\n",
       "      <td>4.741450</td>\n",
       "      <td>12.201325</td>\n",
       "      <td>73.53220</td>\n",
       "    </tr>\n",
       "    <tr>\n",
       "      <th>tqwt_kurtosisValue_dec_34</th>\n",
       "      <td>756.0</td>\n",
       "      <td>14.799230</td>\n",
       "      <td>15.722502</td>\n",
       "      <td>1.861700</td>\n",
       "      <td>3.665925</td>\n",
       "      <td>6.725700</td>\n",
       "      <td>21.922050</td>\n",
       "      <td>62.00730</td>\n",
       "    </tr>\n",
       "    <tr>\n",
       "      <th>tqwt_kurtosisValue_dec_35</th>\n",
       "      <td>756.0</td>\n",
       "      <td>14.751559</td>\n",
       "      <td>14.432979</td>\n",
       "      <td>1.955900</td>\n",
       "      <td>3.741275</td>\n",
       "      <td>7.334250</td>\n",
       "      <td>22.495175</td>\n",
       "      <td>57.54430</td>\n",
       "    </tr>\n",
       "    <tr>\n",
       "      <th>tqwt_kurtosisValue_dec_36</th>\n",
       "      <td>756.0</td>\n",
       "      <td>31.481110</td>\n",
       "      <td>34.230991</td>\n",
       "      <td>2.364000</td>\n",
       "      <td>3.948750</td>\n",
       "      <td>10.637250</td>\n",
       "      <td>61.125325</td>\n",
       "      <td>156.42370</td>\n",
       "    </tr>\n",
       "    <tr>\n",
       "      <th>class</th>\n",
       "      <td>756.0</td>\n",
       "      <td>0.746032</td>\n",
       "      <td>0.435568</td>\n",
       "      <td>0.000000</td>\n",
       "      <td>0.000000</td>\n",
       "      <td>1.000000</td>\n",
       "      <td>1.000000</td>\n",
       "      <td>1.00000</td>\n",
       "    </tr>\n",
       "  </tbody>\n",
       "</table>\n",
       "<p>755 rows × 8 columns</p>\n",
       "</div>"
      ],
      "text/plain": [
       "                           count        mean        std       min        25%  \\\n",
       "id                         756.0  125.500000  72.793721  0.000000  62.750000   \n",
       "gender                     756.0    0.515873   0.500079  0.000000   0.000000   \n",
       "PPE                        756.0    0.746284   0.169294  0.041551   0.762833   \n",
       "DFA                        756.0    0.700414   0.069718  0.543500   0.647053   \n",
       "RPDE                       756.0    0.489058   0.137442  0.154300   0.386537   \n",
       "...                          ...         ...        ...       ...        ...   \n",
       "tqwt_kurtosisValue_dec_33  756.0   12.375335  16.341665  1.628700   3.114375   \n",
       "tqwt_kurtosisValue_dec_34  756.0   14.799230  15.722502  1.861700   3.665925   \n",
       "tqwt_kurtosisValue_dec_35  756.0   14.751559  14.432979  1.955900   3.741275   \n",
       "tqwt_kurtosisValue_dec_36  756.0   31.481110  34.230991  2.364000   3.948750   \n",
       "class                      756.0    0.746032   0.435568  0.000000   0.000000   \n",
       "\n",
       "                                  50%         75%        max  \n",
       "id                         125.500000  188.250000  251.00000  \n",
       "gender                       1.000000    1.000000    1.00000  \n",
       "PPE                          0.809655    0.834315    0.90766  \n",
       "DFA                          0.700525    0.754985    0.85264  \n",
       "RPDE                         0.484355    0.586515    0.87123  \n",
       "...                               ...         ...        ...  \n",
       "tqwt_kurtosisValue_dec_33    4.741450   12.201325   73.53220  \n",
       "tqwt_kurtosisValue_dec_34    6.725700   21.922050   62.00730  \n",
       "tqwt_kurtosisValue_dec_35    7.334250   22.495175   57.54430  \n",
       "tqwt_kurtosisValue_dec_36   10.637250   61.125325  156.42370  \n",
       "class                        1.000000    1.000000    1.00000  \n",
       "\n",
       "[755 rows x 8 columns]"
      ]
     },
     "execution_count": 5,
     "metadata": {},
     "output_type": "execute_result"
    }
   ],
   "source": [
    "df.describe().T"
   ]
  },
  {
   "cell_type": "code",
   "execution_count": 6,
   "id": "d07dc4f1",
   "metadata": {},
   "outputs": [
    {
     "data": {
      "text/plain": [
       "np.int64(0)"
      ]
     },
     "execution_count": 6,
     "metadata": {},
     "output_type": "execute_result"
    }
   ],
   "source": [
    "df.isnull().sum().sum()"
   ]
  },
  {
   "cell_type": "code",
   "execution_count": 7,
   "id": "f6e226fe",
   "metadata": {},
   "outputs": [],
   "source": [
    "df = df.groupby('id').mean().reset_index()\n",
    "df.drop('id', axis=1, inplace=True)"
   ]
  },
  {
   "cell_type": "code",
   "execution_count": 8,
   "id": "c6eece2d",
   "metadata": {},
   "outputs": [
    {
     "data": {
      "text/plain": [
       "(252, 287)"
      ]
     },
     "execution_count": 8,
     "metadata": {},
     "output_type": "execute_result"
    }
   ],
   "source": [
    "columns = list(df.columns)\n",
    "for col in columns:\n",
    "    if col == 'class':\n",
    "        continue\n",
    "\n",
    "    filtered_columns = [col]\n",
    "    for col1 in df.columns:\n",
    "        if((col == col1) | (col == 'class')):\n",
    "            continue\n",
    "\n",
    "        val = df[col].corr(df[col1])\n",
    "        if val > 0.7:\n",
    "            # If the correlation between the two features is more than 0.7, remove it\n",
    "            columns.remove(col1)\n",
    "            continue\n",
    "        else:\n",
    "            filtered_columns.append(col1)\n",
    "            \n",
    "    df = df[filtered_columns]\n",
    "df.shape"
   ]
  },
  {
   "cell_type": "code",
   "execution_count": 9,
   "id": "c2ee6f7a",
   "metadata": {},
   "outputs": [
    {
     "name": "stderr",
     "output_type": "stream",
     "text": [
      "C:\\Users\\HP\\AppData\\Local\\Temp\\ipykernel_16280\\508335269.py:10: SettingWithCopyWarning: \n",
      "A value is trying to be set on a copy of a slice from a DataFrame.\n",
      "Try using .loc[row_indexer,col_indexer] = value instead\n",
      "\n",
      "See the caveats in the documentation: https://pandas.pydata.org/pandas-docs/stable/user_guide/indexing.html#returning-a-view-versus-a-copy\n",
      "  filtered_data['class'] = df['class']\n"
     ]
    },
    {
     "data": {
      "text/plain": [
       "(252, 31)"
      ]
     },
     "execution_count": 9,
     "metadata": {},
     "output_type": "execute_result"
    }
   ],
   "source": [
    "from sklearn.preprocessing import LabelEncoder, MinMaxScaler\n",
    "from sklearn.feature_selection import SelectKBest, chi2\n",
    "\n",
    "X = df.drop('class', axis=1)\n",
    "X_norm = MinMaxScaler().fit_transform(X)\n",
    "selector = SelectKBest(chi2, k=30)\n",
    "selector.fit(X_norm, df['class'])\n",
    "filtered_columns = selector.get_support()\n",
    "filtered_data = X.loc[:, filtered_columns]\n",
    "filtered_data['class'] = df['class']\n",
    "df = filtered_data\n",
    "df.shape"
   ]
  },
  {
   "cell_type": "code",
   "execution_count": 10,
   "id": "c2233db3",
   "metadata": {},
   "outputs": [
    {
     "data": {
      "image/png": "[encoded data removed]",
      "text/plain": [
       "<Figure size 640x480 with 1 Axes>"
      ]
     },
     "metadata": {},
     "output_type": "display_data"
    }
   ],
   "source": [
    "import matplotlib.pyplot as plt\n",
    "\n",
    "x = df['class'].value_counts()\n",
    "plt.pie(x.values,\n",
    "        labels = x.index,\n",
    "        autopct='%1.1f%%')\n",
    "plt.show()"
   ]
  },
  {
   "cell_type": "code",
   "execution_count": 11,
   "id": "cf9df019",
   "metadata": {},
   "outputs": [
    {
     "data": {
      "text/plain": [
       "((302, 30),\n",
       " class\n",
       " 1.0    151\n",
       " 0.0    151\n",
       " Name: count, dtype: int64)"
      ]
     },
     "execution_count": 11,
     "metadata": {},
     "output_type": "execute_result"
    }
   ],
   "source": [
    "from imblearn.over_sampling import RandomOverSampler\n",
    "from sklearn.model_selection import train_test_split\n",
    "\n",
    "features = df.drop('class', axis=1)\n",
    "target = df['class']\n",
    "\n",
    "X_train, X_val,Y_train, Y_val = train_test_split(features, target,\n",
    "                                      test_size=0.2,\n",
    "                                      random_state=10)\n",
    "\n",
    "ros = RandomOverSampler(sampling_strategy=1.0,\n",
    "                        random_state=0)\n",
    "X, Y = ros.fit_resample(X_train, Y_train)\n",
    "X.shape, Y.value_counts()"
   ]
  },
  {
   "cell_type": "code",
   "execution_count": 13,
   "id": "4a5efc05",
   "metadata": {},
   "outputs": [
    {
     "name": "stdout",
     "output_type": "stream",
     "text": [
      "LogisticRegression(class_weight='balanced') : \n",
      "Training Accuracy :  0.7739072847682119\n",
      "Validation Accuracy :  0.8301158301158301\n",
      "\n",
      "SVC(probability=True) : \n",
      "Training Accuracy :  0.5566887417218543\n",
      "Validation Accuracy :  0.5714285714285714\n",
      "\n"
     ]
    },
    {
     "name": "stderr",
     "output_type": "stream",
     "text": [
      "C:\\Users\\HP\\AppData\\Roaming\\Python\\Python313\\site-packages\\sklearn\\linear_model\\_logistic.py:465: ConvergenceWarning: lbfgs failed to converge (status=1):\n",
      "STOP: TOTAL NO. OF ITERATIONS REACHED LIMIT.\n",
      "\n",
      "Increase the number of iterations (max_iter) or scale the data as shown in:\n",
      "    https://scikit-learn.org/stable/modules/preprocessing.html\n",
      "Please also refer to the documentation for alternative solver options:\n",
      "    https://scikit-learn.org/stable/modules/linear_model.html#logistic-regression\n",
      "  n_iter_i = _check_optimize_result(\n"
     ]
    }
   ],
   "source": [
    "from sklearn import metrics\n",
    "from sklearn.svm import SVC\n",
    "from sklearn.linear_model import LogisticRegression\n",
    "\n",
    "from sklearn.metrics import roc_auc_score as ras\n",
    "\n",
    "models = [LogisticRegression(class_weight='balanced'), SVC(kernel='rbf', probability=True)] \n",
    "for model in models:\n",
    "    model.fit(X_train, Y_train)\n",
    "    print(f'{model} : ')\n",
    "\n",
    "    train_preds = model.predict(X_train)\n",
    "    print('Training Accuracy : ', ras(Y_train, train_preds))\n",
    "\n",
    "    val_preds = model.predict(X_val)\n",
    "    print('Validation Accuracy : ', ras(Y_val, val_preds))\n",
    "    print()"
   ]
  },
  {
   "cell_type": "code",
   "execution_count": 14,
   "id": "8c6e73a3",
   "metadata": {},
   "outputs": [
    {
     "data": {
      "image/png": "[encoded data removed]",
      "text/plain": [
       "<Figure size 640x480 with 2 Axes>"
      ]
     },
     "metadata": {},
     "output_type": "display_data"
    }
   ],
   "source": [
    "from sklearn.metrics import ConfusionMatrixDisplay\n",
    "\n",
    "ConfusionMatrixDisplay.from_estimator(models[0], X_val, Y_val)\n",
    "plt.show()"
   ]
  }
 ],
 "metadata": {
  "kernelspec": {
   "display_name": "Python 3",
   "language": "python",
   "name": "python3"
  },
  "language_info": {
   "codemirror_mode": {
    "name": "ipython",
    "version": 3
   },
   "file_extension": ".py",
   "mimetype": "text/x-python",
   "name": "python",
   "nbconvert_exporter": "python",
   "pygments_lexer": "ipython3",
   "version": "3.13.1"
  }
 },
 "nbformat": 4,
 "nbformat_minor": 5
}
